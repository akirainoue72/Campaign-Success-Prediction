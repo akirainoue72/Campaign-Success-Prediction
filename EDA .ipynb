{
 "cells": [
  {
   "cell_type": "markdown",
   "id": "031ef53e",
   "metadata": {},
   "source": [
    "This section will cover the EDA portion of this project. In this section we will aim to explore the data and see if there are any interesting correlations or findings. "
   ]
  },
  {
   "cell_type": "code",
   "execution_count": 1,
   "id": "8d7d964b",
   "metadata": {},
   "outputs": [],
   "source": [
    "# Importing relevant libraries\n",
    "\n",
    "import numpy as np\n",
    "import pandas as pd\n",
    "import matplotlib.pyplot as plt\n",
    "import seaborn as sns\n",
    "%matplotlib inline"
   ]
  },
  {
   "cell_type": "code",
   "execution_count": 2,
   "id": "ec359d72",
   "metadata": {},
   "outputs": [
    {
     "data": {
      "text/html": [
       "<div>\n",
       "<style scoped>\n",
       "    .dataframe tbody tr th:only-of-type {\n",
       "        vertical-align: middle;\n",
       "    }\n",
       "\n",
       "    .dataframe tbody tr th {\n",
       "        vertical-align: top;\n",
       "    }\n",
       "\n",
       "    .dataframe thead th {\n",
       "        text-align: right;\n",
       "    }\n",
       "</style>\n",
       "<table border=\"1\" class=\"dataframe\">\n",
       "  <thead>\n",
       "    <tr style=\"text-align: right;\">\n",
       "      <th></th>\n",
       "      <th>Unnamed: 0</th>\n",
       "      <th>id</th>\n",
       "      <th>name</th>\n",
       "      <th>currency</th>\n",
       "      <th>launched_at</th>\n",
       "      <th>backers_count</th>\n",
       "      <th>country</th>\n",
       "      <th>status</th>\n",
       "      <th>usd_pledged</th>\n",
       "      <th>sub_category</th>\n",
       "      <th>main_category</th>\n",
       "      <th>blurb_length</th>\n",
       "      <th>goal_usd</th>\n",
       "      <th>city</th>\n",
       "      <th>duration</th>\n",
       "      <th>month</th>\n",
       "      <th>launched_year</th>\n",
       "      <th>success_yn</th>\n",
       "    </tr>\n",
       "  </thead>\n",
       "  <tbody>\n",
       "    <tr>\n",
       "      <th>0</th>\n",
       "      <td>0</td>\n",
       "      <td>1714728788</td>\n",
       "      <td>Urban Farm Kits: Our Solution to City Farming</td>\n",
       "      <td>CAD</td>\n",
       "      <td>2018-02-10 22:47:52</td>\n",
       "      <td>16</td>\n",
       "      <td>CA</td>\n",
       "      <td>failed</td>\n",
       "      <td>577.9</td>\n",
       "      <td>food</td>\n",
       "      <td>Farms</td>\n",
       "      <td>122</td>\n",
       "      <td>785.8</td>\n",
       "      <td>Victoria</td>\n",
       "      <td>60.0</td>\n",
       "      <td>2</td>\n",
       "      <td>2018</td>\n",
       "      <td>0</td>\n",
       "    </tr>\n",
       "    <tr>\n",
       "      <th>1</th>\n",
       "      <td>1</td>\n",
       "      <td>1639965256</td>\n",
       "      <td>Reflections on the LHC Safety Report</td>\n",
       "      <td>USD</td>\n",
       "      <td>2014-11-21 10:42:26</td>\n",
       "      <td>7</td>\n",
       "      <td>US</td>\n",
       "      <td>successful</td>\n",
       "      <td>211.0</td>\n",
       "      <td>publishing</td>\n",
       "      <td>Academic</td>\n",
       "      <td>35</td>\n",
       "      <td>93.0</td>\n",
       "      <td>San Diego</td>\n",
       "      <td>24.0</td>\n",
       "      <td>11</td>\n",
       "      <td>2014</td>\n",
       "      <td>1</td>\n",
       "    </tr>\n",
       "    <tr>\n",
       "      <th>2</th>\n",
       "      <td>2</td>\n",
       "      <td>1582062943</td>\n",
       "      <td>Ultra-Custom Chocolate Bars</td>\n",
       "      <td>USD</td>\n",
       "      <td>2020-10-19 05:26:59</td>\n",
       "      <td>99</td>\n",
       "      <td>US</td>\n",
       "      <td>successful</td>\n",
       "      <td>4697.0</td>\n",
       "      <td>food</td>\n",
       "      <td>Small Batch</td>\n",
       "      <td>122</td>\n",
       "      <td>1500.0</td>\n",
       "      <td>Philadelphia</td>\n",
       "      <td>30.0</td>\n",
       "      <td>10</td>\n",
       "      <td>2020</td>\n",
       "      <td>1</td>\n",
       "    </tr>\n",
       "    <tr>\n",
       "      <th>3</th>\n",
       "      <td>3</td>\n",
       "      <td>1888984372</td>\n",
       "      <td>GlassWeb: Internet Monitoring</td>\n",
       "      <td>USD</td>\n",
       "      <td>2019-05-29 16:01:34</td>\n",
       "      <td>3</td>\n",
       "      <td>US</td>\n",
       "      <td>failed</td>\n",
       "      <td>222.0</td>\n",
       "      <td>technology</td>\n",
       "      <td>Gadgets</td>\n",
       "      <td>69</td>\n",
       "      <td>25000.0</td>\n",
       "      <td>Chicago</td>\n",
       "      <td>60.0</td>\n",
       "      <td>5</td>\n",
       "      <td>2019</td>\n",
       "      <td>0</td>\n",
       "    </tr>\n",
       "    <tr>\n",
       "      <th>4</th>\n",
       "      <td>4</td>\n",
       "      <td>1409770586</td>\n",
       "      <td>Dreaming of Streaming - 96.9 FM KMRD-LP Madrid...</td>\n",
       "      <td>USD</td>\n",
       "      <td>2015-11-19 20:36:01</td>\n",
       "      <td>100</td>\n",
       "      <td>US</td>\n",
       "      <td>successful</td>\n",
       "      <td>5410.0</td>\n",
       "      <td>publishing</td>\n",
       "      <td>Radio &amp; Podcasts</td>\n",
       "      <td>131</td>\n",
       "      <td>5000.0</td>\n",
       "      <td>Madrid</td>\n",
       "      <td>30.0</td>\n",
       "      <td>11</td>\n",
       "      <td>2015</td>\n",
       "      <td>1</td>\n",
       "    </tr>\n",
       "  </tbody>\n",
       "</table>\n",
       "</div>"
      ],
      "text/plain": [
       "   Unnamed: 0          id                                               name  \\\n",
       "0           0  1714728788      Urban Farm Kits: Our Solution to City Farming   \n",
       "1           1  1639965256               Reflections on the LHC Safety Report   \n",
       "2           2  1582062943                        Ultra-Custom Chocolate Bars   \n",
       "3           3  1888984372                      GlassWeb: Internet Monitoring   \n",
       "4           4  1409770586  Dreaming of Streaming - 96.9 FM KMRD-LP Madrid...   \n",
       "\n",
       "  currency          launched_at  backers_count country      status  \\\n",
       "0      CAD  2018-02-10 22:47:52             16      CA      failed   \n",
       "1      USD  2014-11-21 10:42:26              7      US  successful   \n",
       "2      USD  2020-10-19 05:26:59             99      US  successful   \n",
       "3      USD  2019-05-29 16:01:34              3      US      failed   \n",
       "4      USD  2015-11-19 20:36:01            100      US  successful   \n",
       "\n",
       "   usd_pledged sub_category     main_category  blurb_length  goal_usd  \\\n",
       "0        577.9         food             Farms           122     785.8   \n",
       "1        211.0   publishing          Academic            35      93.0   \n",
       "2       4697.0         food       Small Batch           122    1500.0   \n",
       "3        222.0   technology           Gadgets            69   25000.0   \n",
       "4       5410.0   publishing  Radio & Podcasts           131    5000.0   \n",
       "\n",
       "           city  duration  month  launched_year  success_yn  \n",
       "0      Victoria      60.0      2           2018           0  \n",
       "1     San Diego      24.0     11           2014           1  \n",
       "2  Philadelphia      30.0     10           2020           1  \n",
       "3       Chicago      60.0      5           2019           0  \n",
       "4        Madrid      30.0     11           2015           1  "
      ]
     },
     "execution_count": 2,
     "metadata": {},
     "output_type": "execute_result"
    }
   ],
   "source": [
    "df=pd.read_csv('data_cleaned.csv')\n",
    "df.head()"
   ]
  },
  {
   "cell_type": "code",
   "execution_count": 3,
   "id": "8f04e21d",
   "metadata": {},
   "outputs": [
    {
     "data": {
      "text/plain": [
       "Index(['Unnamed: 0', 'id', 'name', 'currency', 'launched_at', 'backers_count',\n",
       "       'country', 'status', 'usd_pledged', 'sub_category', 'main_category',\n",
       "       'blurb_length', 'goal_usd', 'city', 'duration', 'month',\n",
       "       'launched_year', 'success_yn'],\n",
       "      dtype='object')"
      ]
     },
     "execution_count": 3,
     "metadata": {},
     "output_type": "execute_result"
    }
   ],
   "source": [
    "df.columns"
   ]
  },
  {
   "cell_type": "code",
   "execution_count": 4,
   "id": "06d5a303",
   "metadata": {},
   "outputs": [
    {
     "data": {
      "text/plain": [
       "([<matplotlib.patches.Wedge at 0x7ff2e80862e0>,\n",
       "  <matplotlib.patches.Wedge at 0x7ff2e80869d0>,\n",
       "  <matplotlib.patches.Wedge at 0x7ff2e80960a0>,\n",
       "  <matplotlib.patches.Wedge at 0x7ff2e8096730>],\n",
       " [Text(-0.1544954531329377, 1.089096485606876, 'failed'),\n",
       "  Text(-0.0637624844200119, -1.0981504202888546, 'successful'),\n",
       "  Text(1.066717502217942, -0.26854007235776756, 'live'),\n",
       "  Text(1.0987485689837642, -0.05245552550619184, 'canceled')],\n",
       " [Text(-0.08427024716342056, 0.5940526285128415, '54.5%'),\n",
       "  Text(-0.03477953695637012, -0.5989911383393751, '39.2%'),\n",
       "  Text(0.5818459103006955, -0.14647640310423682, '4.8%'),\n",
       "  Text(0.5993174012638713, -0.02861210482155918, '1.5%')])"
      ]
     },
     "execution_count": 4,
     "metadata": {},
     "output_type": "execute_result"
    },
    {
     "data": {
      "image/png": "[encoded data removed]",
      "text/plain": [
       "<Figure size 900x600 with 1 Axes>"
      ]
     },
     "metadata": {},
     "output_type": "display_data"
    }
   ],
   "source": [
    "# Let's create a pie chart showing the percentage of campaigns that were successes. \n",
    "\n",
    "size=df['status'].value_counts()\n",
    "\n",
    "sizes=size.values\n",
    "\n",
    "label=df['status'].unique()\n",
    "\n",
    "plt.figure(figsize=(9,6),dpi=100)\n",
    "\n",
    "plt.pie(sizes,labels=label,autopct='%1.1f%%')\n",
    "\n"
   ]
  },
  {
   "cell_type": "code",
   "execution_count": 5,
   "id": "9a0fd698",
   "metadata": {},
   "outputs": [],
   "source": [
    "# Here we have some results for status that are canceled or live. Let's remove them now\n",
    "\n",
    "df=df[df['status']!='canceled']\n",
    "df=df[df['status']!='live']"
   ]
  },
  {
   "cell_type": "code",
   "execution_count": 6,
   "id": "b5856e28",
   "metadata": {},
   "outputs": [
    {
     "data": {
      "text/plain": [
       "([<matplotlib.patches.Wedge at 0x7ff308181c70>,\n",
       "  <matplotlib.patches.Wedge at 0x7ff30818f3a0>],\n",
       " [Text(-0.27919623779075325, 1.0639781298520612, 'failed'),\n",
       "  Text(0.27919633740757394, -1.0639781037118181, 'successful')],\n",
       " [Text(-0.15228885697677447, 0.5803517071920333, '58.2%'),\n",
       "  Text(0.15228891131322211, -0.5803516929337189, '41.8%')])"
      ]
     },
     "execution_count": 6,
     "metadata": {},
     "output_type": "execute_result"
    },
    {
     "data": {
      "image/png": "[encoded data removed]",
      "text/plain": [
       "<Figure size 900x600 with 1 Axes>"
      ]
     },
     "metadata": {},
     "output_type": "display_data"
    }
   ],
   "source": [
    "size=df['status'].value_counts()\n",
    "\n",
    "sizes=size.values\n",
    "\n",
    "label=df['status'].unique()\n",
    "\n",
    "plt.figure(figsize=(9,6),dpi=100)\n",
    "\n",
    "plt.pie(sizes,labels=label,autopct='%1.1f%%')\n"
   ]
  },
  {
   "cell_type": "code",
   "execution_count": 7,
   "id": "ace72b36",
   "metadata": {},
   "outputs": [],
   "source": [
    "# About 60% of the campaigns failed and 40% of the campaigns were successful."
   ]
  },
  {
   "cell_type": "code",
   "execution_count": 8,
   "id": "e1555d62",
   "metadata": {},
   "outputs": [
    {
     "data": {
      "text/plain": [
       "Index(['Unnamed: 0', 'id', 'name', 'currency', 'launched_at', 'backers_count',\n",
       "       'country', 'status', 'usd_pledged', 'sub_category', 'main_category',\n",
       "       'blurb_length', 'goal_usd', 'city', 'duration', 'month',\n",
       "       'launched_year', 'success_yn'],\n",
       "      dtype='object')"
      ]
     },
     "execution_count": 8,
     "metadata": {},
     "output_type": "execute_result"
    }
   ],
   "source": [
    "# Now let's look at some distributions using barplots. \n",
    "df.columns"
   ]
  },
  {
   "cell_type": "code",
   "execution_count": 9,
   "id": "c20d7f5e",
   "metadata": {},
   "outputs": [
    {
     "data": {
      "text/plain": [
       "159"
      ]
     },
     "execution_count": 9,
     "metadata": {},
     "output_type": "execute_result"
    }
   ],
   "source": [
    "df['main_category'].nunique()"
   ]
  },
  {
   "cell_type": "code",
   "execution_count": 10,
   "id": "aa055357",
   "metadata": {},
   "outputs": [
    {
     "data": {
      "text/plain": [
       "<AxesSubplot:>"
      ]
     },
     "execution_count": 10,
     "metadata": {},
     "output_type": "execute_result"
    },
    {
     "data": {
      "image/png": "[encoded data removed]",
      "text/plain": [
       "<Figure size 900x600 with 1 Axes>"
      ]
     },
     "metadata": {
      "needs_background": "light"
     },
     "output_type": "display_data"
    }
   ],
   "source": [
    "# Because there are so many different categories for the promotions, let's just look at the top 25. \n",
    "\n",
    "df_maincat_num=df['main_category'].value_counts()[:25]\n",
    "plt.figure(figsize=(9,6),dpi=100)\n",
    "sns.barplot(data=df,x=df_maincat_num.values,y=df_maincat_num.index)"
   ]
  },
  {
   "cell_type": "markdown",
   "id": "d8d9dab2",
   "metadata": {},
   "source": [
    "Web seems to have the most campaigns in this dataset followed by comedy. "
   ]
  },
  {
   "cell_type": "code",
   "execution_count": 11,
   "id": "dcd4c46e",
   "metadata": {},
   "outputs": [
    {
     "data": {
      "text/plain": [
       "15"
      ]
     },
     "execution_count": 11,
     "metadata": {},
     "output_type": "execute_result"
    }
   ],
   "source": [
    "# Now let's do the same for sub category\n",
    "\n",
    "df['sub_category'].nunique()"
   ]
  },
  {
   "cell_type": "code",
   "execution_count": 12,
   "id": "2dec4620",
   "metadata": {},
   "outputs": [
    {
     "data": {
      "text/plain": [
       "<AxesSubplot:>"
      ]
     },
     "execution_count": 12,
     "metadata": {},
     "output_type": "execute_result"
    },
    {
     "data": {
      "image/png": "[encoded data removed]",
      "text/plain": [
       "<Figure size 900x600 with 1 Axes>"
      ]
     },
     "metadata": {
      "needs_background": "light"
     },
     "output_type": "display_data"
    }
   ],
   "source": [
    "df_sub_num=df['sub_category'].value_counts()\n",
    "plt.figure(figsize=(9,6),dpi=100)\n",
    "sns.barplot(data=df,x=df_sub_num.values,y=df_sub_num.index)"
   ]
  },
  {
   "cell_type": "markdown",
   "id": "dbd4967f",
   "metadata": {},
   "source": [
    "There seems to be the most campaigns in music followed by film & video. \n",
    "\n",
    "- Looking at this information, the sub category seems to be the main category and the main category seems to be the sub category. \n",
    "- Let's rename these columns now. "
   ]
  },
  {
   "cell_type": "code",
   "execution_count": 13,
   "id": "ba8a958f",
   "metadata": {},
   "outputs": [
    {
     "data": {
      "text/plain": [
       "15"
      ]
     },
     "execution_count": 13,
     "metadata": {},
     "output_type": "execute_result"
    }
   ],
   "source": [
    "df.rename(columns={'main_category': 'sub_category', 'sub_category': 'main_category'},inplace=True)\n",
    "df['main_category'].nunique()"
   ]
  },
  {
   "cell_type": "code",
   "execution_count": 14,
   "id": "61f6578e",
   "metadata": {},
   "outputs": [
    {
     "data": {
      "text/plain": [
       "Index(['Unnamed: 0', 'id', 'name', 'currency', 'launched_at', 'backers_count',\n",
       "       'country', 'status', 'usd_pledged', 'main_category', 'sub_category',\n",
       "       'blurb_length', 'goal_usd', 'city', 'duration', 'month',\n",
       "       'launched_year', 'success_yn'],\n",
       "      dtype='object')"
      ]
     },
     "execution_count": 14,
     "metadata": {},
     "output_type": "execute_result"
    }
   ],
   "source": [
    "df.columns"
   ]
  },
  {
   "cell_type": "code",
   "execution_count": 15,
   "id": "b5947f97",
   "metadata": {},
   "outputs": [
    {
     "data": {
      "text/plain": [
       "25"
      ]
     },
     "execution_count": 15,
     "metadata": {},
     "output_type": "execute_result"
    }
   ],
   "source": [
    "df['country'].nunique()"
   ]
  },
  {
   "cell_type": "code",
   "execution_count": 16,
   "id": "5727d211",
   "metadata": {},
   "outputs": [
    {
     "data": {
      "text/plain": [
       "<AxesSubplot:>"
      ]
     },
     "execution_count": 16,
     "metadata": {},
     "output_type": "execute_result"
    },
    {
     "data": {
      "image/png": "[encoded data removed]",
      "text/plain": [
       "<Figure size 900x600 with 1 Axes>"
      ]
     },
     "metadata": {
      "needs_background": "light"
     },
     "output_type": "display_data"
    }
   ],
   "source": [
    "df_country_num=df['country'].value_counts()\n",
    "plt.figure(figsize=(9,6),dpi=100)\n",
    "sns.barplot(data=df,x=df_country_num.index,y=df_country_num.values)\n"
   ]
  },
  {
   "cell_type": "markdown",
   "id": "b72cd69c",
   "metadata": {},
   "source": [
    "It is clear that the majority of this dataset comes from campaigns in the U.S. We probably have to take a closer look at the campaigns happening in the U.S and those that are happening outside the U.S"
   ]
  },
  {
   "cell_type": "code",
   "execution_count": 17,
   "id": "190bbdbc",
   "metadata": {},
   "outputs": [
    {
     "data": {
      "text/plain": [
       "Index(['Unnamed: 0', 'id', 'name', 'currency', 'launched_at', 'backers_count',\n",
       "       'country', 'status', 'usd_pledged', 'main_category', 'sub_category',\n",
       "       'blurb_length', 'goal_usd', 'city', 'duration', 'month',\n",
       "       'launched_year', 'success_yn'],\n",
       "      dtype='object')"
      ]
     },
     "execution_count": 17,
     "metadata": {},
     "output_type": "execute_result"
    }
   ],
   "source": [
    "df.columns"
   ]
  },
  {
   "cell_type": "code",
   "execution_count": 19,
   "id": "ba313753",
   "metadata": {},
   "outputs": [
    {
     "data": {
      "text/plain": [
       "<AxesSubplot:xlabel='count', ylabel='main_category'>"
      ]
     },
     "execution_count": 19,
     "metadata": {},
     "output_type": "execute_result"
    },
    {
     "data": {
      "image/png": "[encoded data removed]",
      "text/plain": [
       "<Figure size 900x600 with 1 Axes>"
      ]
     },
     "metadata": {
      "needs_background": "light"
     },
     "output_type": "display_data"
    }
   ],
   "source": [
    "# Let's make some barplots with status as an indicator.\n",
    "\n",
    "plt.figure(figsize=(9,6),dpi=100)\n",
    "\n",
    "sns.countplot(data=df,y='main_category',hue='status')\n"
   ]
  },
  {
   "cell_type": "markdown",
   "id": "02f9d969",
   "metadata": {},
   "source": [
    "Music,art,publishing, and film&video have a high success rate."
   ]
  },
  {
   "cell_type": "code",
   "execution_count": 22,
   "id": "9201db9c",
   "metadata": {},
   "outputs": [
    {
     "data": {
      "text/plain": [
       "2015    30481\n",
       "2016    23548\n",
       "2017    22089\n",
       "2014    21271\n",
       "2020    21219\n",
       "2019    20796\n",
       "2018    20017\n",
       "2013     9683\n",
       "2012     6394\n",
       "2011     3641\n",
       "2010     1322\n",
       "2009      214\n",
       "Name: launched_year, dtype: int64"
      ]
     },
     "execution_count": 22,
     "metadata": {},
     "output_type": "execute_result"
    }
   ],
   "source": [
    "# Year and success rate\n",
    "\n",
    "df['launched_year'].value_counts()"
   ]
  },
  {
   "cell_type": "markdown",
   "id": "321c6616",
   "metadata": {},
   "source": [
    "It seems that 2015 and 2016 had the most campaigns."
   ]
  },
  {
   "cell_type": "code",
   "execution_count": 27,
   "id": "e3db5934",
   "metadata": {},
   "outputs": [
    {
     "data": {
      "text/html": [
       "<div>\n",
       "<style scoped>\n",
       "    .dataframe tbody tr th:only-of-type {\n",
       "        vertical-align: middle;\n",
       "    }\n",
       "\n",
       "    .dataframe tbody tr th {\n",
       "        vertical-align: top;\n",
       "    }\n",
       "\n",
       "    .dataframe thead th {\n",
       "        text-align: right;\n",
       "    }\n",
       "</style>\n",
       "<table border=\"1\" class=\"dataframe\">\n",
       "  <thead>\n",
       "    <tr style=\"text-align: right;\">\n",
       "      <th></th>\n",
       "      <th>launched_year</th>\n",
       "      <th>success_yn</th>\n",
       "    </tr>\n",
       "  </thead>\n",
       "  <tbody>\n",
       "    <tr>\n",
       "      <th>0</th>\n",
       "      <td>2009</td>\n",
       "      <td>0.822430</td>\n",
       "    </tr>\n",
       "    <tr>\n",
       "      <th>4</th>\n",
       "      <td>2013</td>\n",
       "      <td>0.810493</td>\n",
       "    </tr>\n",
       "    <tr>\n",
       "      <th>2</th>\n",
       "      <td>2011</td>\n",
       "      <td>0.795661</td>\n",
       "    </tr>\n",
       "    <tr>\n",
       "      <th>3</th>\n",
       "      <td>2012</td>\n",
       "      <td>0.789803</td>\n",
       "    </tr>\n",
       "    <tr>\n",
       "      <th>1</th>\n",
       "      <td>2010</td>\n",
       "      <td>0.768533</td>\n",
       "    </tr>\n",
       "  </tbody>\n",
       "</table>\n",
       "</div>"
      ],
      "text/plain": [
       "   launched_year  success_yn\n",
       "0           2009    0.822430\n",
       "4           2013    0.810493\n",
       "2           2011    0.795661\n",
       "3           2012    0.789803\n",
       "1           2010    0.768533"
      ]
     },
     "execution_count": 27,
     "metadata": {},
     "output_type": "execute_result"
    }
   ],
   "source": [
    "# #Comparing year to success rate\n",
    "\n",
    "year_success_rate=df.groupby('launched_year')['success_yn'].mean().to_frame().reset_index().sort_values('success_yn',ascending=False)\n",
    "year_success_rate.head()"
   ]
  },
  {
   "cell_type": "markdown",
   "id": "3633255e",
   "metadata": {},
   "source": [
    "2009,2013,2011 had the highest success rate. "
   ]
  },
  {
   "cell_type": "code",
   "execution_count": 29,
   "id": "ba76a3fe",
   "metadata": {},
   "outputs": [
    {
     "data": {
      "text/html": [
       "<div>\n",
       "<style scoped>\n",
       "    .dataframe tbody tr th:only-of-type {\n",
       "        vertical-align: middle;\n",
       "    }\n",
       "\n",
       "    .dataframe tbody tr th {\n",
       "        vertical-align: top;\n",
       "    }\n",
       "\n",
       "    .dataframe thead th {\n",
       "        text-align: right;\n",
       "    }\n",
       "</style>\n",
       "<table border=\"1\" class=\"dataframe\">\n",
       "  <thead>\n",
       "    <tr style=\"text-align: right;\">\n",
       "      <th></th>\n",
       "      <th>main_category</th>\n",
       "      <th>success_yn</th>\n",
       "    </tr>\n",
       "  </thead>\n",
       "  <tbody>\n",
       "    <tr>\n",
       "      <th>1</th>\n",
       "      <td>comics</td>\n",
       "      <td>0.879394</td>\n",
       "    </tr>\n",
       "    <tr>\n",
       "      <th>3</th>\n",
       "      <td>dance</td>\n",
       "      <td>0.777489</td>\n",
       "    </tr>\n",
       "    <tr>\n",
       "      <th>12</th>\n",
       "      <td>publishing</td>\n",
       "      <td>0.703062</td>\n",
       "    </tr>\n",
       "    <tr>\n",
       "      <th>8</th>\n",
       "      <td>games</td>\n",
       "      <td>0.693861</td>\n",
       "    </tr>\n",
       "    <tr>\n",
       "      <th>10</th>\n",
       "      <td>music</td>\n",
       "      <td>0.681018</td>\n",
       "    </tr>\n",
       "    <tr>\n",
       "      <th>14</th>\n",
       "      <td>theater</td>\n",
       "      <td>0.648897</td>\n",
       "    </tr>\n",
       "    <tr>\n",
       "      <th>5</th>\n",
       "      <td>fashion</td>\n",
       "      <td>0.639129</td>\n",
       "    </tr>\n",
       "    <tr>\n",
       "      <th>4</th>\n",
       "      <td>design</td>\n",
       "      <td>0.609160</td>\n",
       "    </tr>\n",
       "    <tr>\n",
       "      <th>0</th>\n",
       "      <td>art</td>\n",
       "      <td>0.599459</td>\n",
       "    </tr>\n",
       "    <tr>\n",
       "      <th>6</th>\n",
       "      <td>film &amp; video</td>\n",
       "      <td>0.595969</td>\n",
       "    </tr>\n",
       "    <tr>\n",
       "      <th>13</th>\n",
       "      <td>technology</td>\n",
       "      <td>0.418427</td>\n",
       "    </tr>\n",
       "    <tr>\n",
       "      <th>11</th>\n",
       "      <td>photography</td>\n",
       "      <td>0.412887</td>\n",
       "    </tr>\n",
       "    <tr>\n",
       "      <th>9</th>\n",
       "      <td>journalism</td>\n",
       "      <td>0.327933</td>\n",
       "    </tr>\n",
       "    <tr>\n",
       "      <th>7</th>\n",
       "      <td>food</td>\n",
       "      <td>0.317939</td>\n",
       "    </tr>\n",
       "    <tr>\n",
       "      <th>2</th>\n",
       "      <td>crafts</td>\n",
       "      <td>0.280928</td>\n",
       "    </tr>\n",
       "  </tbody>\n",
       "</table>\n",
       "</div>"
      ],
      "text/plain": [
       "   main_category  success_yn\n",
       "1         comics    0.879394\n",
       "3          dance    0.777489\n",
       "12    publishing    0.703062\n",
       "8          games    0.693861\n",
       "10         music    0.681018\n",
       "14       theater    0.648897\n",
       "5        fashion    0.639129\n",
       "4         design    0.609160\n",
       "0            art    0.599459\n",
       "6   film & video    0.595969\n",
       "13    technology    0.418427\n",
       "11   photography    0.412887\n",
       "9     journalism    0.327933\n",
       "7           food    0.317939\n",
       "2         crafts    0.280928"
      ]
     },
     "execution_count": 29,
     "metadata": {},
     "output_type": "execute_result"
    }
   ],
   "source": [
    "# Comparing category to success rate\n",
    "\n",
    "category_success_rate=df.groupby('main_category')['success_yn'].mean().to_frame().reset_index().sort_values('success_yn',ascending=False)\n",
    "category_success_rate"
   ]
  },
  {
   "cell_type": "markdown",
   "id": "eb10dba3",
   "metadata": {},
   "source": [
    "Comics,dance,publishing,games, then music have the highest success rates. "
   ]
  },
  {
   "cell_type": "code",
   "execution_count": 30,
   "id": "7ac90b05",
   "metadata": {},
   "outputs": [
    {
     "data": {
      "text/html": [
       "<div>\n",
       "<style scoped>\n",
       "    .dataframe tbody tr th:only-of-type {\n",
       "        vertical-align: middle;\n",
       "    }\n",
       "\n",
       "    .dataframe tbody tr th {\n",
       "        vertical-align: top;\n",
       "    }\n",
       "\n",
       "    .dataframe thead th {\n",
       "        text-align: right;\n",
       "    }\n",
       "</style>\n",
       "<table border=\"1\" class=\"dataframe\">\n",
       "  <thead>\n",
       "    <tr style=\"text-align: right;\">\n",
       "      <th></th>\n",
       "      <th>Unnamed: 0</th>\n",
       "      <th>id</th>\n",
       "      <th>name</th>\n",
       "      <th>currency</th>\n",
       "      <th>launched_at</th>\n",
       "      <th>backers_count</th>\n",
       "      <th>country</th>\n",
       "      <th>status</th>\n",
       "      <th>usd_pledged</th>\n",
       "      <th>main_category</th>\n",
       "      <th>sub_category</th>\n",
       "      <th>blurb_length</th>\n",
       "      <th>goal_usd</th>\n",
       "      <th>city</th>\n",
       "      <th>duration</th>\n",
       "      <th>month</th>\n",
       "      <th>launched_year</th>\n",
       "      <th>success_yn</th>\n",
       "    </tr>\n",
       "  </thead>\n",
       "  <tbody>\n",
       "    <tr>\n",
       "      <th>1</th>\n",
       "      <td>1</td>\n",
       "      <td>1639965256</td>\n",
       "      <td>Reflections on the LHC Safety Report</td>\n",
       "      <td>USD</td>\n",
       "      <td>2014-11-21 10:42:26</td>\n",
       "      <td>7</td>\n",
       "      <td>US</td>\n",
       "      <td>successful</td>\n",
       "      <td>211.0</td>\n",
       "      <td>publishing</td>\n",
       "      <td>Academic</td>\n",
       "      <td>35</td>\n",
       "      <td>93.0</td>\n",
       "      <td>San Diego</td>\n",
       "      <td>24.0</td>\n",
       "      <td>11</td>\n",
       "      <td>2014</td>\n",
       "      <td>1</td>\n",
       "    </tr>\n",
       "    <tr>\n",
       "      <th>2</th>\n",
       "      <td>2</td>\n",
       "      <td>1582062943</td>\n",
       "      <td>Ultra-Custom Chocolate Bars</td>\n",
       "      <td>USD</td>\n",
       "      <td>2020-10-19 05:26:59</td>\n",
       "      <td>99</td>\n",
       "      <td>US</td>\n",
       "      <td>successful</td>\n",
       "      <td>4697.0</td>\n",
       "      <td>food</td>\n",
       "      <td>Small Batch</td>\n",
       "      <td>122</td>\n",
       "      <td>1500.0</td>\n",
       "      <td>Philadelphia</td>\n",
       "      <td>30.0</td>\n",
       "      <td>10</td>\n",
       "      <td>2020</td>\n",
       "      <td>1</td>\n",
       "    </tr>\n",
       "    <tr>\n",
       "      <th>4</th>\n",
       "      <td>4</td>\n",
       "      <td>1409770586</td>\n",
       "      <td>Dreaming of Streaming - 96.9 FM KMRD-LP Madrid...</td>\n",
       "      <td>USD</td>\n",
       "      <td>2015-11-19 20:36:01</td>\n",
       "      <td>100</td>\n",
       "      <td>US</td>\n",
       "      <td>successful</td>\n",
       "      <td>5410.0</td>\n",
       "      <td>publishing</td>\n",
       "      <td>Radio &amp; Podcasts</td>\n",
       "      <td>131</td>\n",
       "      <td>5000.0</td>\n",
       "      <td>Madrid</td>\n",
       "      <td>30.0</td>\n",
       "      <td>11</td>\n",
       "      <td>2015</td>\n",
       "      <td>1</td>\n",
       "    </tr>\n",
       "    <tr>\n",
       "      <th>5</th>\n",
       "      <td>5</td>\n",
       "      <td>1184883770</td>\n",
       "      <td>The Breaks Season 1.5 (Episodes 4-9)</td>\n",
       "      <td>USD</td>\n",
       "      <td>2014-03-14 20:56:54</td>\n",
       "      <td>106</td>\n",
       "      <td>US</td>\n",
       "      <td>successful</td>\n",
       "      <td>5782.0</td>\n",
       "      <td>film &amp; video</td>\n",
       "      <td>Webseries</td>\n",
       "      <td>134</td>\n",
       "      <td>4000.0</td>\n",
       "      <td>Los Angeles</td>\n",
       "      <td>31.0</td>\n",
       "      <td>3</td>\n",
       "      <td>2014</td>\n",
       "      <td>1</td>\n",
       "    </tr>\n",
       "    <tr>\n",
       "      <th>6</th>\n",
       "      <td>6</td>\n",
       "      <td>673847406</td>\n",
       "      <td>Ninty Fresh Issue 2</td>\n",
       "      <td>GBP</td>\n",
       "      <td>2020-09-21 08:01:19</td>\n",
       "      <td>1156</td>\n",
       "      <td>GB</td>\n",
       "      <td>successful</td>\n",
       "      <td>19829.4</td>\n",
       "      <td>publishing</td>\n",
       "      <td>Zines</td>\n",
       "      <td>93</td>\n",
       "      <td>3366.7</td>\n",
       "      <td>Essex</td>\n",
       "      <td>45.0</td>\n",
       "      <td>9</td>\n",
       "      <td>2020</td>\n",
       "      <td>1</td>\n",
       "    </tr>\n",
       "  </tbody>\n",
       "</table>\n",
       "</div>"
      ],
      "text/plain": [
       "   Unnamed: 0          id                                               name  \\\n",
       "1           1  1639965256               Reflections on the LHC Safety Report   \n",
       "2           2  1582062943                        Ultra-Custom Chocolate Bars   \n",
       "4           4  1409770586  Dreaming of Streaming - 96.9 FM KMRD-LP Madrid...   \n",
       "5           5  1184883770               The Breaks Season 1.5 (Episodes 4-9)   \n",
       "6           6   673847406                                Ninty Fresh Issue 2   \n",
       "\n",
       "  currency          launched_at  backers_count country      status  \\\n",
       "1      USD  2014-11-21 10:42:26              7      US  successful   \n",
       "2      USD  2020-10-19 05:26:59             99      US  successful   \n",
       "4      USD  2015-11-19 20:36:01            100      US  successful   \n",
       "5      USD  2014-03-14 20:56:54            106      US  successful   \n",
       "6      GBP  2020-09-21 08:01:19           1156      GB  successful   \n",
       "\n",
       "   usd_pledged main_category      sub_category  blurb_length  goal_usd  \\\n",
       "1        211.0    publishing          Academic            35      93.0   \n",
       "2       4697.0          food       Small Batch           122    1500.0   \n",
       "4       5410.0    publishing  Radio & Podcasts           131    5000.0   \n",
       "5       5782.0  film & video         Webseries           134    4000.0   \n",
       "6      19829.4    publishing             Zines            93    3366.7   \n",
       "\n",
       "           city  duration  month  launched_year  success_yn  \n",
       "1     San Diego      24.0     11           2014           1  \n",
       "2  Philadelphia      30.0     10           2020           1  \n",
       "4        Madrid      30.0     11           2015           1  \n",
       "5   Los Angeles      31.0      3           2014           1  \n",
       "6         Essex      45.0      9           2020           1  "
      ]
     },
     "execution_count": 30,
     "metadata": {},
     "output_type": "execute_result"
    }
   ],
   "source": [
    "# Let's now create a new dataframe which takes in only the successful campaigns\n",
    "\n",
    "df_success=df[df['status']=='successful']\n",
    "df_success.head()"
   ]
  },
  {
   "cell_type": "code",
   "execution_count": 31,
   "id": "a8ba1a38",
   "metadata": {},
   "outputs": [
    {
     "data": {
      "text/plain": [
       "music           17573\n",
       "film & video    15109\n",
       "publishing      12814\n",
       "art             11756\n",
       "technology       7902\n",
       "games            7833\n",
       "fashion          6282\n",
       "comics           6154\n",
       "food             4633\n",
       "design           3937\n",
       "theater          3384\n",
       "photography      2576\n",
       "dance            2390\n",
       "crafts           1417\n",
       "journalism       1336\n",
       "Name: main_category, dtype: int64"
      ]
     },
     "execution_count": 31,
     "metadata": {},
     "output_type": "execute_result"
    }
   ],
   "source": [
    "df_success['main_category'].value_counts()"
   ]
  },
  {
   "cell_type": "code",
   "execution_count": 32,
   "id": "cfef0ff7",
   "metadata": {},
   "outputs": [
    {
     "data": {
      "text/plain": [
       "30.0    43321\n",
       "60.0     5166\n",
       "31.0     4600\n",
       "45.0     3472\n",
       "21.0     3297\n",
       "        ...  \n",
       "78.0        4\n",
       "73.0        3\n",
       "79.0        3\n",
       "83.0        2\n",
       "98.0        1\n",
       "Name: duration, Length: 92, dtype: int64"
      ]
     },
     "execution_count": 32,
     "metadata": {},
     "output_type": "execute_result"
    }
   ],
   "source": [
    "df_success['duration'].value_counts()"
   ]
  },
  {
   "cell_type": "code",
   "execution_count": 33,
   "id": "d4d40636",
   "metadata": {},
   "outputs": [
    {
     "data": {
      "text/plain": [
       "Rock              2385\n",
       "Country & Folk    2384\n",
       "Indie Rock        2384\n",
       "Shorts            2362\n",
       "Nonfiction        2356\n",
       "                  ... \n",
       "Bacon               40\n",
       "Photo               39\n",
       "Chiptune            38\n",
       "Quilts              21\n",
       "Taxidermy            5\n",
       "Name: sub_category, Length: 159, dtype: int64"
      ]
     },
     "execution_count": 33,
     "metadata": {},
     "output_type": "execute_result"
    }
   ],
   "source": [
    "df_success['sub_category'].value_counts()"
   ]
  },
  {
   "cell_type": "code",
   "execution_count": 35,
   "id": "349b6c2e",
   "metadata": {},
   "outputs": [
    {
     "data": {
      "text/html": [
       "<div>\n",
       "<style scoped>\n",
       "    .dataframe tbody tr th:only-of-type {\n",
       "        vertical-align: middle;\n",
       "    }\n",
       "\n",
       "    .dataframe tbody tr th {\n",
       "        vertical-align: top;\n",
       "    }\n",
       "\n",
       "    .dataframe thead th {\n",
       "        text-align: right;\n",
       "    }\n",
       "</style>\n",
       "<table border=\"1\" class=\"dataframe\">\n",
       "  <thead>\n",
       "    <tr style=\"text-align: right;\">\n",
       "      <th></th>\n",
       "      <th>main_category</th>\n",
       "      <th>usd_pledged</th>\n",
       "    </tr>\n",
       "  </thead>\n",
       "  <tbody>\n",
       "    <tr>\n",
       "      <th>13</th>\n",
       "      <td>technology</td>\n",
       "      <td>763749330.0</td>\n",
       "    </tr>\n",
       "    <tr>\n",
       "      <th>8</th>\n",
       "      <td>games</td>\n",
       "      <td>395881399.7</td>\n",
       "    </tr>\n",
       "    <tr>\n",
       "      <th>6</th>\n",
       "      <td>film &amp; video</td>\n",
       "      <td>257511683.2</td>\n",
       "    </tr>\n",
       "    <tr>\n",
       "      <th>4</th>\n",
       "      <td>design</td>\n",
       "      <td>243945608.4</td>\n",
       "    </tr>\n",
       "    <tr>\n",
       "      <th>12</th>\n",
       "      <td>publishing</td>\n",
       "      <td>135046929.1</td>\n",
       "    </tr>\n",
       "    <tr>\n",
       "      <th>10</th>\n",
       "      <td>music</td>\n",
       "      <td>134941952.4</td>\n",
       "    </tr>\n",
       "    <tr>\n",
       "      <th>5</th>\n",
       "      <td>fashion</td>\n",
       "      <td>113263532.0</td>\n",
       "    </tr>\n",
       "    <tr>\n",
       "      <th>7</th>\n",
       "      <td>food</td>\n",
       "      <td>96363759.9</td>\n",
       "    </tr>\n",
       "    <tr>\n",
       "      <th>0</th>\n",
       "      <td>art</td>\n",
       "      <td>83996080.9</td>\n",
       "    </tr>\n",
       "    <tr>\n",
       "      <th>1</th>\n",
       "      <td>comics</td>\n",
       "      <td>79078041.5</td>\n",
       "    </tr>\n",
       "    <tr>\n",
       "      <th>11</th>\n",
       "      <td>photography</td>\n",
       "      <td>34579994.8</td>\n",
       "    </tr>\n",
       "    <tr>\n",
       "      <th>14</th>\n",
       "      <td>theater</td>\n",
       "      <td>22690090.9</td>\n",
       "    </tr>\n",
       "    <tr>\n",
       "      <th>9</th>\n",
       "      <td>journalism</td>\n",
       "      <td>16523254.8</td>\n",
       "    </tr>\n",
       "    <tr>\n",
       "      <th>3</th>\n",
       "      <td>dance</td>\n",
       "      <td>13101119.5</td>\n",
       "    </tr>\n",
       "    <tr>\n",
       "      <th>2</th>\n",
       "      <td>crafts</td>\n",
       "      <td>8082108.4</td>\n",
       "    </tr>\n",
       "  </tbody>\n",
       "</table>\n",
       "</div>"
      ],
      "text/plain": [
       "   main_category  usd_pledged\n",
       "13    technology  763749330.0\n",
       "8          games  395881399.7\n",
       "6   film & video  257511683.2\n",
       "4         design  243945608.4\n",
       "12    publishing  135046929.1\n",
       "10         music  134941952.4\n",
       "5        fashion  113263532.0\n",
       "7           food   96363759.9\n",
       "0            art   83996080.9\n",
       "1         comics   79078041.5\n",
       "11   photography   34579994.8\n",
       "14       theater   22690090.9\n",
       "9     journalism   16523254.8\n",
       "3          dance   13101119.5\n",
       "2         crafts    8082108.4"
      ]
     },
     "execution_count": 35,
     "metadata": {},
     "output_type": "execute_result"
    }
   ],
   "source": [
    "success_category_amount=df_success.groupby('main_category')['usd_pledged'].sum().to_frame().reset_index().sort_values('usd_pledged',ascending=False)\n",
    "success_category_amount"
   ]
  },
  {
   "cell_type": "markdown",
   "id": "3697bc09",
   "metadata": {},
   "source": [
    "While music had the highest amount of successful campaigns and comics had the highest success rate, technology has the highest money raised by a large amount. This makes sense as technology campaigns are usually bigger and when they succeed they raise a lot of money. "
   ]
  },
  {
   "cell_type": "code",
   "execution_count": 44,
   "id": "9dab3481",
   "metadata": {},
   "outputs": [
    {
     "name": "stderr",
     "output_type": "stream",
     "text": [
      "<ipython-input-44-9c294cf66702>:4: FutureWarning: Indexing with multiple keys (implicitly converted to a tuple of keys) will be deprecated, use a list instead.\n",
      "  df_success_grouped=df_success.groupby('main_category')['goal_usd','usd_pledged'].sum().reset_index()\n"
     ]
    },
    {
     "data": {
      "text/html": [
       "<div>\n",
       "<style scoped>\n",
       "    .dataframe tbody tr th:only-of-type {\n",
       "        vertical-align: middle;\n",
       "    }\n",
       "\n",
       "    .dataframe tbody tr th {\n",
       "        vertical-align: top;\n",
       "    }\n",
       "\n",
       "    .dataframe thead th {\n",
       "        text-align: right;\n",
       "    }\n",
       "</style>\n",
       "<table border=\"1\" class=\"dataframe\">\n",
       "  <thead>\n",
       "    <tr style=\"text-align: right;\">\n",
       "      <th></th>\n",
       "      <th>main_category</th>\n",
       "      <th>how many times over goal</th>\n",
       "    </tr>\n",
       "  </thead>\n",
       "  <tbody>\n",
       "    <tr>\n",
       "      <th>6</th>\n",
       "      <td>film &amp; video</td>\n",
       "      <td>5.889862</td>\n",
       "    </tr>\n",
       "    <tr>\n",
       "      <th>11</th>\n",
       "      <td>photography</td>\n",
       "      <td>4.604583</td>\n",
       "    </tr>\n",
       "    <tr>\n",
       "      <th>14</th>\n",
       "      <td>theater</td>\n",
       "      <td>3.283916</td>\n",
       "    </tr>\n",
       "    <tr>\n",
       "      <th>2</th>\n",
       "      <td>crafts</td>\n",
       "      <td>3.131333</td>\n",
       "    </tr>\n",
       "    <tr>\n",
       "      <th>1</th>\n",
       "      <td>comics</td>\n",
       "      <td>2.268817</td>\n",
       "    </tr>\n",
       "    <tr>\n",
       "      <th>9</th>\n",
       "      <td>journalism</td>\n",
       "      <td>1.867240</td>\n",
       "    </tr>\n",
       "    <tr>\n",
       "      <th>7</th>\n",
       "      <td>food</td>\n",
       "      <td>1.772667</td>\n",
       "    </tr>\n",
       "    <tr>\n",
       "      <th>5</th>\n",
       "      <td>fashion</td>\n",
       "      <td>1.445500</td>\n",
       "    </tr>\n",
       "    <tr>\n",
       "      <th>12</th>\n",
       "      <td>publishing</td>\n",
       "      <td>1.136008</td>\n",
       "    </tr>\n",
       "    <tr>\n",
       "      <th>10</th>\n",
       "      <td>music</td>\n",
       "      <td>1.109350</td>\n",
       "    </tr>\n",
       "    <tr>\n",
       "      <th>4</th>\n",
       "      <td>design</td>\n",
       "      <td>1.082000</td>\n",
       "    </tr>\n",
       "    <tr>\n",
       "      <th>13</th>\n",
       "      <td>technology</td>\n",
       "      <td>1.077267</td>\n",
       "    </tr>\n",
       "    <tr>\n",
       "      <th>8</th>\n",
       "      <td>games</td>\n",
       "      <td>1.020000</td>\n",
       "    </tr>\n",
       "    <tr>\n",
       "      <th>0</th>\n",
       "      <td>art</td>\n",
       "      <td>0.735429</td>\n",
       "    </tr>\n",
       "    <tr>\n",
       "      <th>3</th>\n",
       "      <td>dance</td>\n",
       "      <td>0.008880</td>\n",
       "    </tr>\n",
       "  </tbody>\n",
       "</table>\n",
       "</div>"
      ],
      "text/plain": [
       "   main_category  how many times over goal\n",
       "6   film & video                  5.889862\n",
       "11   photography                  4.604583\n",
       "14       theater                  3.283916\n",
       "2         crafts                  3.131333\n",
       "1         comics                  2.268817\n",
       "9     journalism                  1.867240\n",
       "7           food                  1.772667\n",
       "5        fashion                  1.445500\n",
       "12    publishing                  1.136008\n",
       "10         music                  1.109350\n",
       "4         design                  1.082000\n",
       "13    technology                  1.077267\n",
       "8          games                  1.020000\n",
       "0            art                  0.735429\n",
       "3          dance                  0.008880"
      ]
     },
     "execution_count": 44,
     "metadata": {},
     "output_type": "execute_result"
    }
   ],
   "source": [
    "# Let's create a dataframe which includes the categories as well as a measure of how much more the money raised was \n",
    "# than the goal.\n",
    "\n",
    "df_success_grouped=df_success.groupby('main_category')['goal_usd','usd_pledged'].sum().reset_index()\n",
    "df_success_grouped['how many times over goal']=df['usd_pledged']/df['goal_usd']\n",
    "df_success_grouped.sort_values('how many times over goal',ascending=False,inplace=True)\n",
    "df_success_grouped[['main_category','how many times over goal']]"
   ]
  },
  {
   "cell_type": "markdown",
   "id": "0b2a8a95",
   "metadata": {},
   "source": [
    "Film & video and photography have exceeded their goal by about 6 times. _"
   ]
  },
  {
   "cell_type": "code",
   "execution_count": 47,
   "id": "3749c637",
   "metadata": {},
   "outputs": [
    {
     "name": "stdout",
     "output_type": "stream",
     "text": [
      "<class 'pandas.core.frame.DataFrame'>\n",
      "Int64Index: 54941 entries, 0 to 192886\n",
      "Data columns (total 18 columns):\n",
      " #   Column         Non-Null Count  Dtype  \n",
      "---  ------         --------------  -----  \n",
      " 0   Unnamed: 0     54941 non-null  int64  \n",
      " 1   id             54941 non-null  int64  \n",
      " 2   name           54941 non-null  object \n",
      " 3   currency       54941 non-null  object \n",
      " 4   launched_at    54941 non-null  object \n",
      " 5   backers_count  54941 non-null  int64  \n",
      " 6   country        54941 non-null  object \n",
      " 7   status         54941 non-null  object \n",
      " 8   usd_pledged    54941 non-null  float64\n",
      " 9   main_category  54941 non-null  object \n",
      " 10  sub_category   54941 non-null  object \n",
      " 11  blurb_length   54941 non-null  int64  \n",
      " 12  goal_usd       54941 non-null  float64\n",
      " 13  city           54941 non-null  object \n",
      " 14  duration       54941 non-null  float64\n",
      " 15  month          54941 non-null  int64  \n",
      " 16  launched_year  54941 non-null  int64  \n",
      " 17  success_yn     54941 non-null  int64  \n",
      "dtypes: float64(3), int64(7), object(8)\n",
      "memory usage: 8.0+ MB\n"
     ]
    }
   ],
   "source": [
    "# Because this dataset features mostly data from campaigns in the U.S, let's take a look at data for countries that\n",
    "# are not the U.S\n",
    "\n",
    "df_non_US=df[df['country']!='US']\n",
    "df_non_US.info()"
   ]
  },
  {
   "cell_type": "code",
   "execution_count": 56,
   "id": "47c33411",
   "metadata": {},
   "outputs": [
    {
     "data": {
      "text/plain": [
       "Text(0.5, 1.0, 'Number of campaigns across categories not in the US')"
      ]
     },
     "execution_count": 56,
     "metadata": {},
     "output_type": "execute_result"
    },
    {
     "data": {
      "image/png": "[encoded data removed]",
      "text/plain": [
       "<Figure size 1200x600 with 1 Axes>"
      ]
     },
     "metadata": {
      "needs_background": "light"
     },
     "output_type": "display_data"
    }
   ],
   "source": [
    "# Looking at success counts for each category \n",
    "plt.figure(figsize=(12,6),dpi=100)\n",
    "sns.countplot(data=df_non_US,x='main_category',hue='status')\n",
    "plt.title('Number of campaigns across categories not in the US')"
   ]
  },
  {
   "cell_type": "code",
   "execution_count": 57,
   "id": "151c6df0",
   "metadata": {},
   "outputs": [],
   "source": [
    "# For non-US data, let's make a line graph that consists of both the amount raised and their goal to visualize \n",
    "# the comparison.\n",
    "\n",
    "df_non_us_success=df_non_US[df_non_US['status']=='successful']"
   ]
  },
  {
   "cell_type": "code",
   "execution_count": 65,
   "id": "059153a1",
   "metadata": {},
   "outputs": [
    {
     "data": {
      "image/png": "[encoded data removed]",
      "text/plain": [
       "<Figure size 1080x720 with 1 Axes>"
      ]
     },
     "metadata": {},
     "output_type": "display_data"
    }
   ],
   "source": [
    "sns.set_style('whitegrid')\n",
    "plt.figure(figsize=(9,6),dpi=120)\n",
    "sns.lineplot(data=df_non_us_success,x='main_category',y='goal_usd')\n",
    "sns.lineplot(data=df_non_us_success,x='main_category',y='usd_pledged')\n",
    "plt.xticks(rotation=90)\n",
    "plt.ylabel('Amount of money (USD)')\n",
    "plt.title('Comparing categories by amount of money raised and goal',fontsize=12)\n",
    "plt.legend(['goal','pledged'],loc='upper right')\n",
    "plt.show()"
   ]
  },
  {
   "cell_type": "code",
   "execution_count": 68,
   "id": "577a0ad4",
   "metadata": {},
   "outputs": [
    {
     "data": {
      "text/html": [
       "<div>\n",
       "<style scoped>\n",
       "    .dataframe tbody tr th:only-of-type {\n",
       "        vertical-align: middle;\n",
       "    }\n",
       "\n",
       "    .dataframe tbody tr th {\n",
       "        vertical-align: top;\n",
       "    }\n",
       "\n",
       "    .dataframe thead th {\n",
       "        text-align: right;\n",
       "    }\n",
       "</style>\n",
       "<table border=\"1\" class=\"dataframe\">\n",
       "  <thead>\n",
       "    <tr style=\"text-align: right;\">\n",
       "      <th></th>\n",
       "      <th>duration</th>\n",
       "      <th>success_yn</th>\n",
       "    </tr>\n",
       "  </thead>\n",
       "  <tbody>\n",
       "    <tr>\n",
       "      <th>0</th>\n",
       "      <td>1.0</td>\n",
       "      <td>0.500000</td>\n",
       "    </tr>\n",
       "    <tr>\n",
       "      <th>1</th>\n",
       "      <td>2.0</td>\n",
       "      <td>0.653846</td>\n",
       "    </tr>\n",
       "    <tr>\n",
       "      <th>2</th>\n",
       "      <td>3.0</td>\n",
       "      <td>0.609756</td>\n",
       "    </tr>\n",
       "    <tr>\n",
       "      <th>3</th>\n",
       "      <td>4.0</td>\n",
       "      <td>0.534884</td>\n",
       "    </tr>\n",
       "    <tr>\n",
       "      <th>4</th>\n",
       "      <td>5.0</td>\n",
       "      <td>0.600000</td>\n",
       "    </tr>\n",
       "  </tbody>\n",
       "</table>\n",
       "</div>"
      ],
      "text/plain": [
       "   duration  success_yn\n",
       "0       1.0    0.500000\n",
       "1       2.0    0.653846\n",
       "2       3.0    0.609756\n",
       "3       4.0    0.534884\n",
       "4       5.0    0.600000"
      ]
     },
     "execution_count": 68,
     "metadata": {},
     "output_type": "execute_result"
    }
   ],
   "source": [
    "# Success rate vs duration\n",
    "\n",
    "project_duration=df_non_US.groupby('duration')['success_yn'].mean().to_frame().reset_index()\n",
    "project_duration.head()\n"
   ]
  },
  {
   "cell_type": "code",
   "execution_count": 69,
   "id": "e11c7e33",
   "metadata": {},
   "outputs": [
    {
     "data": {
      "text/plain": [
       "<Figure size 720x480 with 0 Axes>"
      ]
     },
     "metadata": {},
     "output_type": "display_data"
    },
    {
     "data": {
      "image/png": "[encoded data removed]",
      "text/plain": [
       "<Figure size 360x360 with 1 Axes>"
      ]
     },
     "metadata": {},
     "output_type": "display_data"
    }
   ],
   "source": [
    "plt.figure(dpi=120)\n",
    "plt.style.use('dark_background')\n",
    "sns.lmplot(data=project_duration, x='duration',y='success_yn')\n",
    "plt.title('Success rate vs duration of campaign',fontsize=12)\n",
    "plt.show()"
   ]
  },
  {
   "cell_type": "markdown",
   "id": "a4e9aa19",
   "metadata": {},
   "source": [
    "In this graph, we can see that the success rate goes down as the duration of the campaign gets longer. \n",
    "However, this might be slightly biased because a lot of the campaigns that have a short duration are asking for a small amount of money which makes success relatively easier.\n",
    "\n",
    "Therefore, let's look at this same graph again goals(USD) exceeding 1000 dollars. Let's also do this for the whole dataset instead of only campaigns not in the U.S"
   ]
  },
  {
   "cell_type": "code",
   "execution_count": 82,
   "id": "ca29c845",
   "metadata": {},
   "outputs": [
    {
     "data": {
      "text/html": [
       "<div>\n",
       "<style scoped>\n",
       "    .dataframe tbody tr th:only-of-type {\n",
       "        vertical-align: middle;\n",
       "    }\n",
       "\n",
       "    .dataframe tbody tr th {\n",
       "        vertical-align: top;\n",
       "    }\n",
       "\n",
       "    .dataframe thead th {\n",
       "        text-align: right;\n",
       "    }\n",
       "</style>\n",
       "<table border=\"1\" class=\"dataframe\">\n",
       "  <thead>\n",
       "    <tr style=\"text-align: right;\">\n",
       "      <th></th>\n",
       "      <th>Unnamed: 0</th>\n",
       "      <th>id</th>\n",
       "      <th>name</th>\n",
       "      <th>currency</th>\n",
       "      <th>launched_at</th>\n",
       "      <th>backers_count</th>\n",
       "      <th>country</th>\n",
       "      <th>status</th>\n",
       "      <th>usd_pledged</th>\n",
       "      <th>main_category</th>\n",
       "      <th>sub_category</th>\n",
       "      <th>blurb_length</th>\n",
       "      <th>goal_usd</th>\n",
       "      <th>city</th>\n",
       "      <th>duration</th>\n",
       "      <th>month</th>\n",
       "      <th>launched_year</th>\n",
       "      <th>success_yn</th>\n",
       "    </tr>\n",
       "  </thead>\n",
       "  <tbody>\n",
       "    <tr>\n",
       "      <th>0</th>\n",
       "      <td>0</td>\n",
       "      <td>1714728788</td>\n",
       "      <td>Urban Farm Kits: Our Solution to City Farming</td>\n",
       "      <td>CAD</td>\n",
       "      <td>2018-02-10 22:47:52</td>\n",
       "      <td>16</td>\n",
       "      <td>CA</td>\n",
       "      <td>failed</td>\n",
       "      <td>577.9</td>\n",
       "      <td>food</td>\n",
       "      <td>Farms</td>\n",
       "      <td>122</td>\n",
       "      <td>785.8</td>\n",
       "      <td>Victoria</td>\n",
       "      <td>60.0</td>\n",
       "      <td>2</td>\n",
       "      <td>2018</td>\n",
       "      <td>0</td>\n",
       "    </tr>\n",
       "    <tr>\n",
       "      <th>1</th>\n",
       "      <td>1</td>\n",
       "      <td>1639965256</td>\n",
       "      <td>Reflections on the LHC Safety Report</td>\n",
       "      <td>USD</td>\n",
       "      <td>2014-11-21 10:42:26</td>\n",
       "      <td>7</td>\n",
       "      <td>US</td>\n",
       "      <td>successful</td>\n",
       "      <td>211.0</td>\n",
       "      <td>publishing</td>\n",
       "      <td>Academic</td>\n",
       "      <td>35</td>\n",
       "      <td>93.0</td>\n",
       "      <td>San Diego</td>\n",
       "      <td>24.0</td>\n",
       "      <td>11</td>\n",
       "      <td>2014</td>\n",
       "      <td>1</td>\n",
       "    </tr>\n",
       "    <tr>\n",
       "      <th>2</th>\n",
       "      <td>2</td>\n",
       "      <td>1582062943</td>\n",
       "      <td>Ultra-Custom Chocolate Bars</td>\n",
       "      <td>USD</td>\n",
       "      <td>2020-10-19 05:26:59</td>\n",
       "      <td>99</td>\n",
       "      <td>US</td>\n",
       "      <td>successful</td>\n",
       "      <td>4697.0</td>\n",
       "      <td>food</td>\n",
       "      <td>Small Batch</td>\n",
       "      <td>122</td>\n",
       "      <td>1500.0</td>\n",
       "      <td>Philadelphia</td>\n",
       "      <td>30.0</td>\n",
       "      <td>10</td>\n",
       "      <td>2020</td>\n",
       "      <td>1</td>\n",
       "    </tr>\n",
       "    <tr>\n",
       "      <th>3</th>\n",
       "      <td>3</td>\n",
       "      <td>1888984372</td>\n",
       "      <td>GlassWeb: Internet Monitoring</td>\n",
       "      <td>USD</td>\n",
       "      <td>2019-05-29 16:01:34</td>\n",
       "      <td>3</td>\n",
       "      <td>US</td>\n",
       "      <td>failed</td>\n",
       "      <td>222.0</td>\n",
       "      <td>technology</td>\n",
       "      <td>Gadgets</td>\n",
       "      <td>69</td>\n",
       "      <td>25000.0</td>\n",
       "      <td>Chicago</td>\n",
       "      <td>60.0</td>\n",
       "      <td>5</td>\n",
       "      <td>2019</td>\n",
       "      <td>0</td>\n",
       "    </tr>\n",
       "    <tr>\n",
       "      <th>4</th>\n",
       "      <td>4</td>\n",
       "      <td>1409770586</td>\n",
       "      <td>Dreaming of Streaming - 96.9 FM KMRD-LP Madrid...</td>\n",
       "      <td>USD</td>\n",
       "      <td>2015-11-19 20:36:01</td>\n",
       "      <td>100</td>\n",
       "      <td>US</td>\n",
       "      <td>successful</td>\n",
       "      <td>5410.0</td>\n",
       "      <td>publishing</td>\n",
       "      <td>Radio &amp; Podcasts</td>\n",
       "      <td>131</td>\n",
       "      <td>5000.0</td>\n",
       "      <td>Madrid</td>\n",
       "      <td>30.0</td>\n",
       "      <td>11</td>\n",
       "      <td>2015</td>\n",
       "      <td>1</td>\n",
       "    </tr>\n",
       "  </tbody>\n",
       "</table>\n",
       "</div>"
      ],
      "text/plain": [
       "   Unnamed: 0          id                                               name  \\\n",
       "0           0  1714728788      Urban Farm Kits: Our Solution to City Farming   \n",
       "1           1  1639965256               Reflections on the LHC Safety Report   \n",
       "2           2  1582062943                        Ultra-Custom Chocolate Bars   \n",
       "3           3  1888984372                      GlassWeb: Internet Monitoring   \n",
       "4           4  1409770586  Dreaming of Streaming - 96.9 FM KMRD-LP Madrid...   \n",
       "\n",
       "  currency          launched_at  backers_count country      status  \\\n",
       "0      CAD  2018-02-10 22:47:52             16      CA      failed   \n",
       "1      USD  2014-11-21 10:42:26              7      US  successful   \n",
       "2      USD  2020-10-19 05:26:59             99      US  successful   \n",
       "3      USD  2019-05-29 16:01:34              3      US      failed   \n",
       "4      USD  2015-11-19 20:36:01            100      US  successful   \n",
       "\n",
       "   usd_pledged main_category      sub_category  blurb_length  goal_usd  \\\n",
       "0        577.9          food             Farms           122     785.8   \n",
       "1        211.0    publishing          Academic            35      93.0   \n",
       "2       4697.0          food       Small Batch           122    1500.0   \n",
       "3        222.0    technology           Gadgets            69   25000.0   \n",
       "4       5410.0    publishing  Radio & Podcasts           131    5000.0   \n",
       "\n",
       "           city  duration  month  launched_year  success_yn  \n",
       "0      Victoria      60.0      2           2018           0  \n",
       "1     San Diego      24.0     11           2014           1  \n",
       "2  Philadelphia      30.0     10           2020           1  \n",
       "3       Chicago      60.0      5           2019           0  \n",
       "4        Madrid      30.0     11           2015           1  "
      ]
     },
     "execution_count": 82,
     "metadata": {},
     "output_type": "execute_result"
    }
   ],
   "source": [
    "df.head()"
   ]
  },
  {
   "cell_type": "code",
   "execution_count": 86,
   "id": "ff6511f1",
   "metadata": {},
   "outputs": [
    {
     "data": {
      "text/plain": [
       "Text(0.5, 1.0, 'Duration vs success rate for campaigns with goals over 1000 USD')"
      ]
     },
     "execution_count": 86,
     "metadata": {},
     "output_type": "execute_result"
    },
    {
     "data": {
      "text/plain": [
       "<Figure size 720x480 with 0 Axes>"
      ]
     },
     "metadata": {},
     "output_type": "display_data"
    },
    {
     "data": {
      "image/png": "[encoded data removed]",
      "text/plain": [
       "<Figure size 360x360 with 1 Axes>"
      ]
     },
     "metadata": {},
     "output_type": "display_data"
    }
   ],
   "source": [
    "# Duration vs success rate for goals exceeding 1000 USD\n",
    "\n",
    "df_goals_over_1000=df[df['goal_usd']>1000]\n",
    "df_goals_over_1000_grouped=df_goals_over_1000.groupby('duration')['success_yn'].mean().to_frame().reset_index()\n",
    "plt.figure(dpi=120)\n",
    "plt.style.use('dark_background')\n",
    "sns.lmplot(data=df_goals_over_1000_grouped,x='duration',y='success_yn')\n",
    "plt.title('Duration vs success rate for campaigns with goals over 1000 USD')"
   ]
  },
  {
   "cell_type": "markdown",
   "id": "d0782f5e",
   "metadata": {},
   "source": [
    "Here we can see that for campaigns where goal exceeds 1000 USD, there is a positive correlation between duration and success rate. "
   ]
  },
  {
   "cell_type": "code",
   "execution_count": 87,
   "id": "b6b08199",
   "metadata": {},
   "outputs": [
    {
     "data": {
      "text/html": [
       "<div>\n",
       "<style scoped>\n",
       "    .dataframe tbody tr th:only-of-type {\n",
       "        vertical-align: middle;\n",
       "    }\n",
       "\n",
       "    .dataframe tbody tr th {\n",
       "        vertical-align: top;\n",
       "    }\n",
       "\n",
       "    .dataframe thead th {\n",
       "        text-align: right;\n",
       "    }\n",
       "</style>\n",
       "<table border=\"1\" class=\"dataframe\">\n",
       "  <thead>\n",
       "    <tr style=\"text-align: right;\">\n",
       "      <th></th>\n",
       "      <th>Unnamed: 0</th>\n",
       "      <th>id</th>\n",
       "      <th>name</th>\n",
       "      <th>currency</th>\n",
       "      <th>launched_at</th>\n",
       "      <th>backers_count</th>\n",
       "      <th>country</th>\n",
       "      <th>status</th>\n",
       "      <th>usd_pledged</th>\n",
       "      <th>main_category</th>\n",
       "      <th>sub_category</th>\n",
       "      <th>blurb_length</th>\n",
       "      <th>goal_usd</th>\n",
       "      <th>city</th>\n",
       "      <th>duration</th>\n",
       "      <th>month</th>\n",
       "      <th>launched_year</th>\n",
       "      <th>success_yn</th>\n",
       "    </tr>\n",
       "  </thead>\n",
       "  <tbody>\n",
       "    <tr>\n",
       "      <th>0</th>\n",
       "      <td>0</td>\n",
       "      <td>1714728788</td>\n",
       "      <td>Urban Farm Kits: Our Solution to City Farming</td>\n",
       "      <td>CAD</td>\n",
       "      <td>2018-02-10 22:47:52</td>\n",
       "      <td>16</td>\n",
       "      <td>CA</td>\n",
       "      <td>failed</td>\n",
       "      <td>577.9</td>\n",
       "      <td>food</td>\n",
       "      <td>Farms</td>\n",
       "      <td>122</td>\n",
       "      <td>785.8</td>\n",
       "      <td>Victoria</td>\n",
       "      <td>60.0</td>\n",
       "      <td>2</td>\n",
       "      <td>2018</td>\n",
       "      <td>0</td>\n",
       "    </tr>\n",
       "    <tr>\n",
       "      <th>1</th>\n",
       "      <td>1</td>\n",
       "      <td>1639965256</td>\n",
       "      <td>Reflections on the LHC Safety Report</td>\n",
       "      <td>USD</td>\n",
       "      <td>2014-11-21 10:42:26</td>\n",
       "      <td>7</td>\n",
       "      <td>US</td>\n",
       "      <td>successful</td>\n",
       "      <td>211.0</td>\n",
       "      <td>publishing</td>\n",
       "      <td>Academic</td>\n",
       "      <td>35</td>\n",
       "      <td>93.0</td>\n",
       "      <td>San Diego</td>\n",
       "      <td>24.0</td>\n",
       "      <td>11</td>\n",
       "      <td>2014</td>\n",
       "      <td>1</td>\n",
       "    </tr>\n",
       "    <tr>\n",
       "      <th>2</th>\n",
       "      <td>2</td>\n",
       "      <td>1582062943</td>\n",
       "      <td>Ultra-Custom Chocolate Bars</td>\n",
       "      <td>USD</td>\n",
       "      <td>2020-10-19 05:26:59</td>\n",
       "      <td>99</td>\n",
       "      <td>US</td>\n",
       "      <td>successful</td>\n",
       "      <td>4697.0</td>\n",
       "      <td>food</td>\n",
       "      <td>Small Batch</td>\n",
       "      <td>122</td>\n",
       "      <td>1500.0</td>\n",
       "      <td>Philadelphia</td>\n",
       "      <td>30.0</td>\n",
       "      <td>10</td>\n",
       "      <td>2020</td>\n",
       "      <td>1</td>\n",
       "    </tr>\n",
       "    <tr>\n",
       "      <th>3</th>\n",
       "      <td>3</td>\n",
       "      <td>1888984372</td>\n",
       "      <td>GlassWeb: Internet Monitoring</td>\n",
       "      <td>USD</td>\n",
       "      <td>2019-05-29 16:01:34</td>\n",
       "      <td>3</td>\n",
       "      <td>US</td>\n",
       "      <td>failed</td>\n",
       "      <td>222.0</td>\n",
       "      <td>technology</td>\n",
       "      <td>Gadgets</td>\n",
       "      <td>69</td>\n",
       "      <td>25000.0</td>\n",
       "      <td>Chicago</td>\n",
       "      <td>60.0</td>\n",
       "      <td>5</td>\n",
       "      <td>2019</td>\n",
       "      <td>0</td>\n",
       "    </tr>\n",
       "    <tr>\n",
       "      <th>4</th>\n",
       "      <td>4</td>\n",
       "      <td>1409770586</td>\n",
       "      <td>Dreaming of Streaming - 96.9 FM KMRD-LP Madrid...</td>\n",
       "      <td>USD</td>\n",
       "      <td>2015-11-19 20:36:01</td>\n",
       "      <td>100</td>\n",
       "      <td>US</td>\n",
       "      <td>successful</td>\n",
       "      <td>5410.0</td>\n",
       "      <td>publishing</td>\n",
       "      <td>Radio &amp; Podcasts</td>\n",
       "      <td>131</td>\n",
       "      <td>5000.0</td>\n",
       "      <td>Madrid</td>\n",
       "      <td>30.0</td>\n",
       "      <td>11</td>\n",
       "      <td>2015</td>\n",
       "      <td>1</td>\n",
       "    </tr>\n",
       "  </tbody>\n",
       "</table>\n",
       "</div>"
      ],
      "text/plain": [
       "   Unnamed: 0          id                                               name  \\\n",
       "0           0  1714728788      Urban Farm Kits: Our Solution to City Farming   \n",
       "1           1  1639965256               Reflections on the LHC Safety Report   \n",
       "2           2  1582062943                        Ultra-Custom Chocolate Bars   \n",
       "3           3  1888984372                      GlassWeb: Internet Monitoring   \n",
       "4           4  1409770586  Dreaming of Streaming - 96.9 FM KMRD-LP Madrid...   \n",
       "\n",
       "  currency          launched_at  backers_count country      status  \\\n",
       "0      CAD  2018-02-10 22:47:52             16      CA      failed   \n",
       "1      USD  2014-11-21 10:42:26              7      US  successful   \n",
       "2      USD  2020-10-19 05:26:59             99      US  successful   \n",
       "3      USD  2019-05-29 16:01:34              3      US      failed   \n",
       "4      USD  2015-11-19 20:36:01            100      US  successful   \n",
       "\n",
       "   usd_pledged main_category      sub_category  blurb_length  goal_usd  \\\n",
       "0        577.9          food             Farms           122     785.8   \n",
       "1        211.0    publishing          Academic            35      93.0   \n",
       "2       4697.0          food       Small Batch           122    1500.0   \n",
       "3        222.0    technology           Gadgets            69   25000.0   \n",
       "4       5410.0    publishing  Radio & Podcasts           131    5000.0   \n",
       "\n",
       "           city  duration  month  launched_year  success_yn  \n",
       "0      Victoria      60.0      2           2018           0  \n",
       "1     San Diego      24.0     11           2014           1  \n",
       "2  Philadelphia      30.0     10           2020           1  \n",
       "3       Chicago      60.0      5           2019           0  \n",
       "4        Madrid      30.0     11           2015           1  "
      ]
     },
     "execution_count": 87,
     "metadata": {},
     "output_type": "execute_result"
    }
   ],
   "source": [
    "df.head()"
   ]
  },
  {
   "cell_type": "code",
   "execution_count": 116,
   "id": "47372a3d",
   "metadata": {},
   "outputs": [
    {
     "data": {
      "text/plain": [
       "<AxesSubplot:xlabel='month', ylabel='count'>"
      ]
     },
     "execution_count": 116,
     "metadata": {},
     "output_type": "execute_result"
    },
    {
     "data": {
      "image/png": "[encoded data removed]",
      "text/plain": [
       "<Figure size 900x600 with 1 Axes>"
      ]
     },
     "metadata": {},
     "output_type": "display_data"
    }
   ],
   "source": [
    "# Month vs amount of success and failures\n",
    "\n",
    "plt.figure(figsize=(9,6),dpi=100)\n",
    "df_month=df.groupby(['month','status'])['month'].count().reset_index(name='count')\n",
    "sns.barplot(data=df_month_sorted,x='month',y='count',hue='status')"
   ]
  },
  {
   "cell_type": "markdown",
   "id": "d40ef7b7",
   "metadata": {},
   "source": [
    "From this graph, we can see that October and May have the highest success count. Let's confirm this by making a quick value counts plot for success count and also a graph for success pct."
   ]
  },
  {
   "cell_type": "code",
   "execution_count": 118,
   "id": "c430c80c",
   "metadata": {},
   "outputs": [
    {
     "data": {
      "text/html": [
       "<div>\n",
       "<style scoped>\n",
       "    .dataframe tbody tr th:only-of-type {\n",
       "        vertical-align: middle;\n",
       "    }\n",
       "\n",
       "    .dataframe tbody tr th {\n",
       "        vertical-align: top;\n",
       "    }\n",
       "\n",
       "    .dataframe thead th {\n",
       "        text-align: right;\n",
       "    }\n",
       "</style>\n",
       "<table border=\"1\" class=\"dataframe\">\n",
       "  <thead>\n",
       "    <tr style=\"text-align: right;\">\n",
       "      <th></th>\n",
       "      <th>month</th>\n",
       "      <th>status</th>\n",
       "      <th>count</th>\n",
       "    </tr>\n",
       "  </thead>\n",
       "  <tbody>\n",
       "    <tr>\n",
       "      <th>19</th>\n",
       "      <td>10</td>\n",
       "      <td>successful</td>\n",
       "      <td>10737</td>\n",
       "    </tr>\n",
       "    <tr>\n",
       "      <th>9</th>\n",
       "      <td>5</td>\n",
       "      <td>successful</td>\n",
       "      <td>9558</td>\n",
       "    </tr>\n",
       "    <tr>\n",
       "      <th>17</th>\n",
       "      <td>9</td>\n",
       "      <td>successful</td>\n",
       "      <td>9549</td>\n",
       "    </tr>\n",
       "    <tr>\n",
       "      <th>5</th>\n",
       "      <td>3</td>\n",
       "      <td>successful</td>\n",
       "      <td>9297</td>\n",
       "    </tr>\n",
       "    <tr>\n",
       "      <th>11</th>\n",
       "      <td>6</td>\n",
       "      <td>successful</td>\n",
       "      <td>9246</td>\n",
       "    </tr>\n",
       "    <tr>\n",
       "      <th>13</th>\n",
       "      <td>7</td>\n",
       "      <td>successful</td>\n",
       "      <td>9175</td>\n",
       "    </tr>\n",
       "    <tr>\n",
       "      <th>21</th>\n",
       "      <td>11</td>\n",
       "      <td>successful</td>\n",
       "      <td>9091</td>\n",
       "    </tr>\n",
       "    <tr>\n",
       "      <th>15</th>\n",
       "      <td>8</td>\n",
       "      <td>successful</td>\n",
       "      <td>8866</td>\n",
       "    </tr>\n",
       "    <tr>\n",
       "      <th>7</th>\n",
       "      <td>4</td>\n",
       "      <td>successful</td>\n",
       "      <td>8861</td>\n",
       "    </tr>\n",
       "    <tr>\n",
       "      <th>3</th>\n",
       "      <td>2</td>\n",
       "      <td>successful</td>\n",
       "      <td>8174</td>\n",
       "    </tr>\n",
       "    <tr>\n",
       "      <th>1</th>\n",
       "      <td>1</td>\n",
       "      <td>successful</td>\n",
       "      <td>7579</td>\n",
       "    </tr>\n",
       "    <tr>\n",
       "      <th>23</th>\n",
       "      <td>12</td>\n",
       "      <td>successful</td>\n",
       "      <td>4963</td>\n",
       "    </tr>\n",
       "  </tbody>\n",
       "</table>\n",
       "</div>"
      ],
      "text/plain": [
       "    month      status  count\n",
       "19     10  successful  10737\n",
       "9       5  successful   9558\n",
       "17      9  successful   9549\n",
       "5       3  successful   9297\n",
       "11      6  successful   9246\n",
       "13      7  successful   9175\n",
       "21     11  successful   9091\n",
       "15      8  successful   8866\n",
       "7       4  successful   8861\n",
       "3       2  successful   8174\n",
       "1       1  successful   7579\n",
       "23     12  successful   4963"
      ]
     },
     "execution_count": 118,
     "metadata": {},
     "output_type": "execute_result"
    }
   ],
   "source": [
    "df_month=df_month[df_month['status']=='successful']\n",
    "df_month.sort_values('count',ascending=False)"
   ]
  },
  {
   "cell_type": "code",
   "execution_count": 123,
   "id": "17cdd356",
   "metadata": {},
   "outputs": [
    {
     "data": {
      "text/plain": [
       "<AxesSubplot:xlabel='month', ylabel='success_yn'>"
      ]
     },
     "execution_count": 123,
     "metadata": {},
     "output_type": "execute_result"
    },
    {
     "data": {
      "image/png": "[encoded data removed]",
      "text/plain": [
       "<Figure size 900x600 with 1 Axes>"
      ]
     },
     "metadata": {},
     "output_type": "display_data"
    }
   ],
   "source": [
    "# Month vs success percentage\n",
    "\n",
    "month_grouped_success=df.groupby('month')['success_yn'].mean().to_frame().reset_index()\n",
    "month_grouped_success.head()\n",
    "plt.figure(figsize=(9,6),dpi=100)\n",
    "sns.barplot(data=month_grouped_success,x='month',y='success_yn')"
   ]
  },
  {
   "cell_type": "markdown",
   "id": "e9fd3d5d",
   "metadata": {},
   "source": [
    "Month doesn't have that much of an effect on success percentage. "
   ]
  },
  {
   "cell_type": "code",
   "execution_count": 124,
   "id": "0ccc7566",
   "metadata": {},
   "outputs": [
    {
     "data": {
      "text/html": [
       "<div>\n",
       "<style scoped>\n",
       "    .dataframe tbody tr th:only-of-type {\n",
       "        vertical-align: middle;\n",
       "    }\n",
       "\n",
       "    .dataframe tbody tr th {\n",
       "        vertical-align: top;\n",
       "    }\n",
       "\n",
       "    .dataframe thead th {\n",
       "        text-align: right;\n",
       "    }\n",
       "</style>\n",
       "<table border=\"1\" class=\"dataframe\">\n",
       "  <thead>\n",
       "    <tr style=\"text-align: right;\">\n",
       "      <th></th>\n",
       "      <th>Unnamed: 0</th>\n",
       "      <th>id</th>\n",
       "      <th>name</th>\n",
       "      <th>currency</th>\n",
       "      <th>launched_at</th>\n",
       "      <th>backers_count</th>\n",
       "      <th>country</th>\n",
       "      <th>status</th>\n",
       "      <th>usd_pledged</th>\n",
       "      <th>main_category</th>\n",
       "      <th>sub_category</th>\n",
       "      <th>blurb_length</th>\n",
       "      <th>goal_usd</th>\n",
       "      <th>city</th>\n",
       "      <th>duration</th>\n",
       "      <th>month</th>\n",
       "      <th>launched_year</th>\n",
       "      <th>success_yn</th>\n",
       "    </tr>\n",
       "  </thead>\n",
       "  <tbody>\n",
       "    <tr>\n",
       "      <th>0</th>\n",
       "      <td>0</td>\n",
       "      <td>1714728788</td>\n",
       "      <td>Urban Farm Kits: Our Solution to City Farming</td>\n",
       "      <td>CAD</td>\n",
       "      <td>2018-02-10 22:47:52</td>\n",
       "      <td>16</td>\n",
       "      <td>CA</td>\n",
       "      <td>failed</td>\n",
       "      <td>577.9</td>\n",
       "      <td>food</td>\n",
       "      <td>Farms</td>\n",
       "      <td>122</td>\n",
       "      <td>785.8</td>\n",
       "      <td>Victoria</td>\n",
       "      <td>60.0</td>\n",
       "      <td>2</td>\n",
       "      <td>2018</td>\n",
       "      <td>0</td>\n",
       "    </tr>\n",
       "    <tr>\n",
       "      <th>1</th>\n",
       "      <td>1</td>\n",
       "      <td>1639965256</td>\n",
       "      <td>Reflections on the LHC Safety Report</td>\n",
       "      <td>USD</td>\n",
       "      <td>2014-11-21 10:42:26</td>\n",
       "      <td>7</td>\n",
       "      <td>US</td>\n",
       "      <td>successful</td>\n",
       "      <td>211.0</td>\n",
       "      <td>publishing</td>\n",
       "      <td>Academic</td>\n",
       "      <td>35</td>\n",
       "      <td>93.0</td>\n",
       "      <td>San Diego</td>\n",
       "      <td>24.0</td>\n",
       "      <td>11</td>\n",
       "      <td>2014</td>\n",
       "      <td>1</td>\n",
       "    </tr>\n",
       "    <tr>\n",
       "      <th>2</th>\n",
       "      <td>2</td>\n",
       "      <td>1582062943</td>\n",
       "      <td>Ultra-Custom Chocolate Bars</td>\n",
       "      <td>USD</td>\n",
       "      <td>2020-10-19 05:26:59</td>\n",
       "      <td>99</td>\n",
       "      <td>US</td>\n",
       "      <td>successful</td>\n",
       "      <td>4697.0</td>\n",
       "      <td>food</td>\n",
       "      <td>Small Batch</td>\n",
       "      <td>122</td>\n",
       "      <td>1500.0</td>\n",
       "      <td>Philadelphia</td>\n",
       "      <td>30.0</td>\n",
       "      <td>10</td>\n",
       "      <td>2020</td>\n",
       "      <td>1</td>\n",
       "    </tr>\n",
       "    <tr>\n",
       "      <th>3</th>\n",
       "      <td>3</td>\n",
       "      <td>1888984372</td>\n",
       "      <td>GlassWeb: Internet Monitoring</td>\n",
       "      <td>USD</td>\n",
       "      <td>2019-05-29 16:01:34</td>\n",
       "      <td>3</td>\n",
       "      <td>US</td>\n",
       "      <td>failed</td>\n",
       "      <td>222.0</td>\n",
       "      <td>technology</td>\n",
       "      <td>Gadgets</td>\n",
       "      <td>69</td>\n",
       "      <td>25000.0</td>\n",
       "      <td>Chicago</td>\n",
       "      <td>60.0</td>\n",
       "      <td>5</td>\n",
       "      <td>2019</td>\n",
       "      <td>0</td>\n",
       "    </tr>\n",
       "    <tr>\n",
       "      <th>4</th>\n",
       "      <td>4</td>\n",
       "      <td>1409770586</td>\n",
       "      <td>Dreaming of Streaming - 96.9 FM KMRD-LP Madrid...</td>\n",
       "      <td>USD</td>\n",
       "      <td>2015-11-19 20:36:01</td>\n",
       "      <td>100</td>\n",
       "      <td>US</td>\n",
       "      <td>successful</td>\n",
       "      <td>5410.0</td>\n",
       "      <td>publishing</td>\n",
       "      <td>Radio &amp; Podcasts</td>\n",
       "      <td>131</td>\n",
       "      <td>5000.0</td>\n",
       "      <td>Madrid</td>\n",
       "      <td>30.0</td>\n",
       "      <td>11</td>\n",
       "      <td>2015</td>\n",
       "      <td>1</td>\n",
       "    </tr>\n",
       "  </tbody>\n",
       "</table>\n",
       "</div>"
      ],
      "text/plain": [
       "   Unnamed: 0          id                                               name  \\\n",
       "0           0  1714728788      Urban Farm Kits: Our Solution to City Farming   \n",
       "1           1  1639965256               Reflections on the LHC Safety Report   \n",
       "2           2  1582062943                        Ultra-Custom Chocolate Bars   \n",
       "3           3  1888984372                      GlassWeb: Internet Monitoring   \n",
       "4           4  1409770586  Dreaming of Streaming - 96.9 FM KMRD-LP Madrid...   \n",
       "\n",
       "  currency          launched_at  backers_count country      status  \\\n",
       "0      CAD  2018-02-10 22:47:52             16      CA      failed   \n",
       "1      USD  2014-11-21 10:42:26              7      US  successful   \n",
       "2      USD  2020-10-19 05:26:59             99      US  successful   \n",
       "3      USD  2019-05-29 16:01:34              3      US      failed   \n",
       "4      USD  2015-11-19 20:36:01            100      US  successful   \n",
       "\n",
       "   usd_pledged main_category      sub_category  blurb_length  goal_usd  \\\n",
       "0        577.9          food             Farms           122     785.8   \n",
       "1        211.0    publishing          Academic            35      93.0   \n",
       "2       4697.0          food       Small Batch           122    1500.0   \n",
       "3        222.0    technology           Gadgets            69   25000.0   \n",
       "4       5410.0    publishing  Radio & Podcasts           131    5000.0   \n",
       "\n",
       "           city  duration  month  launched_year  success_yn  \n",
       "0      Victoria      60.0      2           2018           0  \n",
       "1     San Diego      24.0     11           2014           1  \n",
       "2  Philadelphia      30.0     10           2020           1  \n",
       "3       Chicago      60.0      5           2019           0  \n",
       "4        Madrid      30.0     11           2015           1  "
      ]
     },
     "execution_count": 124,
     "metadata": {},
     "output_type": "execute_result"
    }
   ],
   "source": [
    "df.head()"
   ]
  },
  {
   "cell_type": "code",
   "execution_count": 130,
   "id": "be73ddce",
   "metadata": {},
   "outputs": [
    {
     "name": "stderr",
     "output_type": "stream",
     "text": [
      "<ipython-input-130-603b1d77631b>:3: FutureWarning: Indexing with multiple keys (implicitly converted to a tuple of keys) will be deprecated, use a list instead.\n",
      "  df_goal_and_success=df.groupby('main_category')['goal_usd','success_yn'].mean()\n"
     ]
    },
    {
     "data": {
      "text/plain": [
       "<seaborn.axisgrid.FacetGrid at 0x7ff2e86f3bb0>"
      ]
     },
     "execution_count": 130,
     "metadata": {},
     "output_type": "execute_result"
    },
    {
     "data": {
      "text/plain": [
       "<Figure size 900x600 with 0 Axes>"
      ]
     },
     "metadata": {},
     "output_type": "display_data"
    },
    {
     "data": {
      "image/png": "[encoded data removed]",
      "text/plain": [
       "<Figure size 360x360 with 1 Axes>"
      ]
     },
     "metadata": {},
     "output_type": "display_data"
    }
   ],
   "source": [
    "# Compare goal_usd and success percentage by creating a lmplot showing their correlation\n",
    "\n",
    "df_goal_and_success=df.groupby('main_category')['goal_usd','success_yn'].mean()\n",
    "df_goal_and_success.head()\n",
    "plt.figure(figsize=(9,6),dpi=100)\n",
    "sns.lmplot(data=df_goal_and_success,x='success_yn',y='goal_usd')\n"
   ]
  },
  {
   "cell_type": "markdown",
   "id": "8e34418a",
   "metadata": {},
   "source": [
    "Here we can see a clear correlation between the success rate and the goal(USD) where the success rate becomes much lower when the goal is higher."
   ]
  },
  {
   "cell_type": "code",
   "execution_count": 131,
   "id": "5cce5238",
   "metadata": {},
   "outputs": [
    {
     "data": {
      "text/html": [
       "<div>\n",
       "<style scoped>\n",
       "    .dataframe tbody tr th:only-of-type {\n",
       "        vertical-align: middle;\n",
       "    }\n",
       "\n",
       "    .dataframe tbody tr th {\n",
       "        vertical-align: top;\n",
       "    }\n",
       "\n",
       "    .dataframe thead th {\n",
       "        text-align: right;\n",
       "    }\n",
       "</style>\n",
       "<table border=\"1\" class=\"dataframe\">\n",
       "  <thead>\n",
       "    <tr style=\"text-align: right;\">\n",
       "      <th></th>\n",
       "      <th>Unnamed: 0</th>\n",
       "      <th>id</th>\n",
       "      <th>name</th>\n",
       "      <th>currency</th>\n",
       "      <th>launched_at</th>\n",
       "      <th>backers_count</th>\n",
       "      <th>country</th>\n",
       "      <th>status</th>\n",
       "      <th>usd_pledged</th>\n",
       "      <th>main_category</th>\n",
       "      <th>sub_category</th>\n",
       "      <th>blurb_length</th>\n",
       "      <th>goal_usd</th>\n",
       "      <th>city</th>\n",
       "      <th>duration</th>\n",
       "      <th>month</th>\n",
       "      <th>launched_year</th>\n",
       "      <th>success_yn</th>\n",
       "    </tr>\n",
       "  </thead>\n",
       "  <tbody>\n",
       "    <tr>\n",
       "      <th>0</th>\n",
       "      <td>0</td>\n",
       "      <td>1714728788</td>\n",
       "      <td>Urban Farm Kits: Our Solution to City Farming</td>\n",
       "      <td>CAD</td>\n",
       "      <td>2018-02-10 22:47:52</td>\n",
       "      <td>16</td>\n",
       "      <td>CA</td>\n",
       "      <td>failed</td>\n",
       "      <td>577.9</td>\n",
       "      <td>food</td>\n",
       "      <td>Farms</td>\n",
       "      <td>122</td>\n",
       "      <td>785.8</td>\n",
       "      <td>Victoria</td>\n",
       "      <td>60.0</td>\n",
       "      <td>2</td>\n",
       "      <td>2018</td>\n",
       "      <td>0</td>\n",
       "    </tr>\n",
       "    <tr>\n",
       "      <th>1</th>\n",
       "      <td>1</td>\n",
       "      <td>1639965256</td>\n",
       "      <td>Reflections on the LHC Safety Report</td>\n",
       "      <td>USD</td>\n",
       "      <td>2014-11-21 10:42:26</td>\n",
       "      <td>7</td>\n",
       "      <td>US</td>\n",
       "      <td>successful</td>\n",
       "      <td>211.0</td>\n",
       "      <td>publishing</td>\n",
       "      <td>Academic</td>\n",
       "      <td>35</td>\n",
       "      <td>93.0</td>\n",
       "      <td>San Diego</td>\n",
       "      <td>24.0</td>\n",
       "      <td>11</td>\n",
       "      <td>2014</td>\n",
       "      <td>1</td>\n",
       "    </tr>\n",
       "    <tr>\n",
       "      <th>2</th>\n",
       "      <td>2</td>\n",
       "      <td>1582062943</td>\n",
       "      <td>Ultra-Custom Chocolate Bars</td>\n",
       "      <td>USD</td>\n",
       "      <td>2020-10-19 05:26:59</td>\n",
       "      <td>99</td>\n",
       "      <td>US</td>\n",
       "      <td>successful</td>\n",
       "      <td>4697.0</td>\n",
       "      <td>food</td>\n",
       "      <td>Small Batch</td>\n",
       "      <td>122</td>\n",
       "      <td>1500.0</td>\n",
       "      <td>Philadelphia</td>\n",
       "      <td>30.0</td>\n",
       "      <td>10</td>\n",
       "      <td>2020</td>\n",
       "      <td>1</td>\n",
       "    </tr>\n",
       "    <tr>\n",
       "      <th>3</th>\n",
       "      <td>3</td>\n",
       "      <td>1888984372</td>\n",
       "      <td>GlassWeb: Internet Monitoring</td>\n",
       "      <td>USD</td>\n",
       "      <td>2019-05-29 16:01:34</td>\n",
       "      <td>3</td>\n",
       "      <td>US</td>\n",
       "      <td>failed</td>\n",
       "      <td>222.0</td>\n",
       "      <td>technology</td>\n",
       "      <td>Gadgets</td>\n",
       "      <td>69</td>\n",
       "      <td>25000.0</td>\n",
       "      <td>Chicago</td>\n",
       "      <td>60.0</td>\n",
       "      <td>5</td>\n",
       "      <td>2019</td>\n",
       "      <td>0</td>\n",
       "    </tr>\n",
       "    <tr>\n",
       "      <th>4</th>\n",
       "      <td>4</td>\n",
       "      <td>1409770586</td>\n",
       "      <td>Dreaming of Streaming - 96.9 FM KMRD-LP Madrid...</td>\n",
       "      <td>USD</td>\n",
       "      <td>2015-11-19 20:36:01</td>\n",
       "      <td>100</td>\n",
       "      <td>US</td>\n",
       "      <td>successful</td>\n",
       "      <td>5410.0</td>\n",
       "      <td>publishing</td>\n",
       "      <td>Radio &amp; Podcasts</td>\n",
       "      <td>131</td>\n",
       "      <td>5000.0</td>\n",
       "      <td>Madrid</td>\n",
       "      <td>30.0</td>\n",
       "      <td>11</td>\n",
       "      <td>2015</td>\n",
       "      <td>1</td>\n",
       "    </tr>\n",
       "  </tbody>\n",
       "</table>\n",
       "</div>"
      ],
      "text/plain": [
       "   Unnamed: 0          id                                               name  \\\n",
       "0           0  1714728788      Urban Farm Kits: Our Solution to City Farming   \n",
       "1           1  1639965256               Reflections on the LHC Safety Report   \n",
       "2           2  1582062943                        Ultra-Custom Chocolate Bars   \n",
       "3           3  1888984372                      GlassWeb: Internet Monitoring   \n",
       "4           4  1409770586  Dreaming of Streaming - 96.9 FM KMRD-LP Madrid...   \n",
       "\n",
       "  currency          launched_at  backers_count country      status  \\\n",
       "0      CAD  2018-02-10 22:47:52             16      CA      failed   \n",
       "1      USD  2014-11-21 10:42:26              7      US  successful   \n",
       "2      USD  2020-10-19 05:26:59             99      US  successful   \n",
       "3      USD  2019-05-29 16:01:34              3      US      failed   \n",
       "4      USD  2015-11-19 20:36:01            100      US  successful   \n",
       "\n",
       "   usd_pledged main_category      sub_category  blurb_length  goal_usd  \\\n",
       "0        577.9          food             Farms           122     785.8   \n",
       "1        211.0    publishing          Academic            35      93.0   \n",
       "2       4697.0          food       Small Batch           122    1500.0   \n",
       "3        222.0    technology           Gadgets            69   25000.0   \n",
       "4       5410.0    publishing  Radio & Podcasts           131    5000.0   \n",
       "\n",
       "           city  duration  month  launched_year  success_yn  \n",
       "0      Victoria      60.0      2           2018           0  \n",
       "1     San Diego      24.0     11           2014           1  \n",
       "2  Philadelphia      30.0     10           2020           1  \n",
       "3       Chicago      60.0      5           2019           0  \n",
       "4        Madrid      30.0     11           2015           1  "
      ]
     },
     "execution_count": 131,
     "metadata": {},
     "output_type": "execute_result"
    }
   ],
   "source": [
    "df.head()"
   ]
  },
  {
   "cell_type": "code",
   "execution_count": 133,
   "id": "4be0bcd0",
   "metadata": {},
   "outputs": [],
   "source": [
    "df.to_csv('EDA_data')"
   ]
  },
  {
   "cell_type": "code",
   "execution_count": null,
   "id": "7536e706",
   "metadata": {},
   "outputs": [],
   "source": []
  }
 ],
 "metadata": {
  "kernelspec": {
   "display_name": "Python 3",
   "language": "python",
   "name": "python3"
  },
  "language_info": {
   "codemirror_mode": {
    "name": "ipython",
    "version": 3
   },
   "file_extension": ".py",
   "mimetype": "text/x-python",
   "name": "python",
   "nbconvert_exporter": "python",
   "pygments_lexer": "ipython3",
   "version": "3.8.8"
  }
 },
 "nbformat": 4,
 "nbformat_minor": 5
}
